{
 "cells": [
  {
   "cell_type": "code",
   "execution_count": 1,
   "id": "7c3149c9",
   "metadata": {},
   "outputs": [
    {
     "name": "stdout",
     "output_type": "stream",
     "text": [
      "masukkan tinggi badan (dalam m): 1.78\n",
      "masukkan skor bmi : 22\n",
      "berat badan yang diperlukan adalah 70\n"
     ]
    }
   ],
   "source": [
    "tinggi_badan=float(input(\"masukkan tinggi badan (dalam m): \"))\n",
    "bmi=int(input(\"masukkan skor bmi : \"))\n",
    "p=round(bmi*tinggi_badan**2)\n",
    "print(f\"berat badan yang diperlukan adalah {p}\")"
   ]
  },
  {
   "cell_type": "code",
   "execution_count": 1,
   "id": "aa3b862d",
   "metadata": {},
   "outputs": [
    {
     "name": "stdout",
     "output_type": "stream",
     "text": [
      "masukkan angka= 5\n",
      "x = 263.0\n"
     ]
    }
   ],
   "source": [
    "x=int(input(\"masukkan angka= \"))\n",
    "p=(2*(x**3))+(2*x)+(15/x)\n",
    "print(f\"x = {p}\")"
   ]
  },
  {
   "cell_type": "code",
   "execution_count": 3,
   "id": "65eb121b",
   "metadata": {},
   "outputs": [
    {
     "name": "stdout",
     "output_type": "stream",
     "text": [
      "masukkan gaji yang diinginkan: rp.15000\n",
      "masukkan jam kerja yang diinginkan: 48\n",
      "pendapatan budi sebelum pajak: rp.3600000\n",
      "pendapatan budi setelah pajak: rp.3096000.0\n",
      "jumlah yang budi habiskan untuk pakaian dan aksesoris: rp.309600.0\n",
      "jumlah uang yang budi habiskan untuk membeli alat tulis: rp.30960.0\n",
      "jumlah yang akan di sedekahkan: rp.688860.0\n",
      "jumlah yang diterima oleh kaum yatim: rp.206400.0\n",
      "jumlah yang diterima oleh kaum dhuafa: rp.481600.0\n"
     ]
    }
   ],
   "source": [
    "gaji=int(input(\"masukkan gaji yang diinginkan: rp.\"))\n",
    "jam_kerja=int(input(\"masukkan jam kerja yang diinginkan: \"))*5\n",
    "p=gaji*jam_kerja\n",
    "q=p-(p*14/100)\n",
    "r=q*10/100\n",
    "s=q*1/100\n",
    "x=(q-(r+s))*(25/100)\n",
    "y=(q-(r+s))*(25/100)\n",
    "u=0\n",
    "v=0\n",
    "while y > 1000:\n",
    "    y-=1000\n",
    "    u+=(1000*(30/100))\n",
    "    v+=(1000*(70/100))\n",
    "print(f\"pendapatan budi sebelum pajak: rp.{p}\")\n",
    "print(f\"pendapatan budi setelah pajak: rp.{q}\")\n",
    "print(f\"jumlah yang budi habiskan untuk pakaian dan aksesoris: rp.{r}\")\n",
    "print(f\"jumlah uang yang budi habiskan untuk membeli alat tulis: rp.{s}\")\n",
    "print(f\"jumlah yang akan di sedekahkan: rp.{x}\")\n",
    "print(f\"jumlah yang diterima oleh kaum yatim: rp.{u}\")\n",
    "print(f\"jumlah yang diterima oleh kaum dhuafa: rp.{v}\")"
   ]
  },
  {
   "cell_type": "code",
   "execution_count": null,
   "id": "f258d3b5",
   "metadata": {},
   "outputs": [],
   "source": []
  }
 ],
 "metadata": {
  "kernelspec": {
   "display_name": "Python 3 (ipykernel)",
   "language": "python",
   "name": "python3"
  },
  "language_info": {
   "codemirror_mode": {
    "name": "ipython",
    "version": 3
   },
   "file_extension": ".py",
   "mimetype": "text/x-python",
   "name": "python",
   "nbconvert_exporter": "python",
   "pygments_lexer": "ipython3",
   "version": "3.11.5"
  }
 },
 "nbformat": 4,
 "nbformat_minor": 5
}
